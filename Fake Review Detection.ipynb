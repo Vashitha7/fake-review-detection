{
  "nbformat": 4,
  "nbformat_minor": 0,
  "metadata": {
    "colab": {
      "provenance": [],
      "authorship_tag": "ABX9TyOLBRVogUssMZxJuXYk+mFl",
      "include_colab_link": true
    },
    "kernelspec": {
      "name": "python3",
      "display_name": "Python 3"
    },
    "language_info": {
      "name": "python"
    }
  },
  "cells": [
    {
      "cell_type": "markdown",
      "metadata": {
        "id": "view-in-github",
        "colab_type": "text"
      },
      "source": [
        "<a href=\"https://colab.research.google.com/github/Vashitha7/fake-review-detection/blob/main/Fake%20Review%20Detection.ipynb\" target=\"_parent\"><img src=\"https://colab.research.google.com/assets/colab-badge.svg\" alt=\"Open In Colab\"/></a>"
      ]
    },
    {
      "cell_type": "code",
      "execution_count": 16,
      "metadata": {
        "colab": {
          "base_uri": "https://localhost:8080/",
          "height": 0
        },
        "id": "tAaBo5EJLBUQ",
        "outputId": "f59e53e4-8238-430d-d299-734de5a42be7"
      },
      "outputs": [
        {
          "output_type": "stream",
          "name": "stdout",
          "text": [
            "Accuracy: 0.6\n",
            "Enter a review to check: not good\n",
            "🔴 This review is predicted to be FAKE.\n"
          ]
        }
      ],
      "source": [
        "import pandas as pd\n",
        "from sklearn.feature_extraction.text import TfidfVectorizer\n",
        "from sklearn.model_selection import train_test_split\n",
        "from sklearn.linear_model import LogisticRegression\n",
        "from sklearn.metrics import accuracy_score\n",
        "#Step 1: Load dataset\n",
        "data = pd.DataFrame({\n",
        "    'Review': [\n",
        "        \"This product is amazing!\",\n",
        "        \"Buy now! Limited time offer!\",\n",
        "        \"Worst experience ever\",\n",
        "        \"Very bad, not recommended\",\n",
        "        \"I love this product, works well\",\n",
        "        \"Fake product, waste of money\",\n",
        "        \"Totally worth the price\",\n",
        "        \"Click here to claim your prize!\",\n",
        "        \"Terrible quality, very disappointed\",\n",
        "        \"Absolutely fantastic, will buy again\",\n",
        "        \"Free coupons inside, act now!\",\n",
        "        \"Do not waste your money\",\n",
        "        \"Best purchase I've made\",\n",
        "        \"Looks good but not genuine\",\n",
        "        \"Scam product, don't trust it\"\n",
        "    ],\n",
        "    'Label': [0, 1, 0, 0, 0, 1, 0, 1, 0, 0, 1, 0, 0, 1, 1]\n",
        "})\n",
        "\n",
        "# Step 2: Split data\n",
        "X = data['Review']\n",
        "y = data['Label']\n",
        "\n",
        "# Step 3: Convert text to numbers\n",
        "vectorizer = TfidfVectorizer()\n",
        "X_vect = vectorizer.fit_transform(X)\n",
        "\n",
        "# Step 4: Train model\n",
        "X_train, X_test, y_train, y_test = train_test_split(X_vect, y, test_size=0.3, random_state=42)\n",
        "model = LogisticRegression()\n",
        "model.fit(X_train, y_train)\n",
        "\n",
        "# Step 5: Predict and show accuracy\n",
        "y_pred = model.predict(X_test)\n",
        "print(\"Accuracy:\", accuracy_score(y_test, y_pred))\n",
        "\n",
        "#user input\n",
        "user_input = input(\"Enter a review to check: \")\n",
        "user_vector = vectorizer.transform([user_input])\n",
        "prediction = model.predict(user_vector)\n",
        "if prediction[0] == 1:\n",
        "    print(\"🟢 This review is predicted to be GENUINE.\")\n",
        "else:\n",
        "    print(\"🔴 This review is predicted to be FAKE.\")"
      ]
    },
    {
      "cell_type": "code",
      "source": [],
      "metadata": {
        "id": "2Z6KE3mBd9e1"
      },
      "execution_count": null,
      "outputs": []
    }
  ]
}