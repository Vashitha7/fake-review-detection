{
  "cells": [
    {
      "cell_type": "code",
      "execution_count": null,
      "metadata": {
        "colab": {
          "base_uri": "https://localhost:8080/"
        },
        "id": "tAaBo5EJLBUQ",
        "outputId": "1a5ae172-7b18-49bf-ecf6-d5c6948fb2ca"
      },
      "outputs": [
        {
          "ename": "",
          "evalue": "",
          "output_type": "error",
          "traceback": [
            "\u001b[1;31mThe kernel failed to start as the Python Environment 'Python 3.12.10' is no longer available. Consider selecting another kernel or refreshing the list of Python Environments."
          ]
        }
      ],
      "source": [
        "import pandas as pd\n",
        "from sklearn.feature_extraction.text import TfidfVectorizer\n",
        "from sklearn.model_selection import train_test_split\n",
        "from sklearn.linear_model import LogisticRegression\n",
        "from sklearn.metrics import accuracy_score\n",
        "\n",
        "# Step 1: Load dataset\n",
        "data = pd.DataFrame({\n",
        "    'Review': [\n",
        "        \"This product is amazing!\",\n",
        "        \"Buy now! Limited time offer!\",\n",
        "        \"Worst experience ever\",\n",
        "        \"Very bad, not recommended\",\n",
        "        \"I love this product, works well\",\n",
        "        \"Fake product, waste of money\",\n",
        "        \"Totally worth the price\",\n",
        "        \"Click here to claim your prize!\",\n",
        "        \"Terrible quality, very disappointed\",\n",
        "        \"Absolutely fantastic, will buy again\",\n",
        "        \"Free coupons inside, act now!\",\n",
        "        \"Do not waste your money\",\n",
        "        \"Best purchase I've made\",\n",
        "        \"Looks good but not genuine\",\n",
        "        \"Scam product, don't trust it\"\n",
        "    ],\n",
        "    'Label': [0, 1, 0, 0, 0, 1, 0, 1, 0, 0, 1, 0, 0, 1, 1]\n",
        "})\n",
        "\n",
        "# Step 2: Split data\n",
        "X = data['Review']\n",
        "y = data['Label']\n",
        "\n",
        "# Step 3: Convert text to numbers\n",
        "vectorizer = TfidfVectorizer()\n",
        "X_vect = vectorizer.fit_transform(X)\n",
        "\n",
        "# Step 4: Train model\n",
        "X_train, X_test, y_train, y_test = train_test_split(X_vect, y, test_size=0.3, random_state=42)\n",
        "model = LogisticRegression()\n",
        "model.fit(X_train, y_train)\n",
        "\n",
        "# Step 5: Predict and show accuracy\n",
        "y_pred = model.predict(X_test)\n",
        "print(\"Accuracy:\", accuracy_score(y_test, y_pred))"
      ]
    }
  ],
  "metadata": {
    "colab": {
      "provenance": []
    },
    "kernelspec": {
      "display_name": "Python 3",
      "language": "python",
      "name": "python3"
    },
    "language_info": {
      "codemirror_mode": {
        "name": "ipython",
        "version": 3
      },
      "file_extension": ".py",
      "mimetype": "text/x-python",
      "name": "python",
      "nbconvert_exporter": "python",
      "pygments_lexer": "ipython3",
      "version": "3.12.10"
    }
  },
  "nbformat": 4,
  "nbformat_minor": 0
}
